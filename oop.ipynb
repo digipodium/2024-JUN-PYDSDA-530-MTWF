{
 "cells": [
  {
   "cell_type": "code",
   "execution_count": null,
   "metadata": {},
   "outputs": [],
   "source": [
    "x = 12\n",
    "print(x, type(x))"
   ]
  },
  {
   "cell_type": "markdown",
   "metadata": {},
   "source": [
    "OOP\n",
    "- class         ✔️\n",
    "- object        ✔️\n",
    "- inheritance   ✔️\n",
    "- polymorphism  ❌\n",
    "- encapsulation ❌\n",
    "- abstraction   ❌"
   ]
  },
  {
   "cell_type": "code",
   "execution_count": null,
   "metadata": {},
   "outputs": [],
   "source": [
    "name = \"John\"\n",
    "print(type(name))"
   ]
  },
  {
   "cell_type": "markdown",
   "metadata": {},
   "source": [
    "class - blueprint for creating objects\n",
    "- properties/attributes/fields\n",
    "- methods/functions\n",
    "- constructor (special method)\n",
    "syntax\n",
    "```\n",
    "class ClassName:\n",
    "    properties 1\n",
    "    properties 2\n",
    "    properties n\n",
    "    \n",
    "    def method1(): \n",
    "        statements\n",
    "    def method2(): \n",
    "        statements\n",
    "    def methodn(): \n",
    "        statements\n",
    "```"
   ]
  },
  {
   "cell_type": "code",
   "execution_count": null,
   "metadata": {},
   "outputs": [],
   "source": [
    "class Nothing:\n",
    "    pass"
   ]
  },
  {
   "cell_type": "code",
   "execution_count": null,
   "metadata": {},
   "outputs": [],
   "source": [
    "print(Nothing)"
   ]
  },
  {
   "cell_type": "code",
   "execution_count": null,
   "metadata": {},
   "outputs": [],
   "source": [
    "class Book:\n",
    "    title = \"\"\n",
    "    author = \"\""
   ]
  },
  {
   "cell_type": "code",
   "execution_count": null,
   "metadata": {},
   "outputs": [],
   "source": [
    "dir(Book)"
   ]
  },
  {
   "cell_type": "code",
   "execution_count": null,
   "metadata": {},
   "outputs": [],
   "source": [
    "# obj = Class()\n",
    "b1 = Book()\n",
    "print(b1)\n",
    "b1.title = \"Words of Radiance\"\n",
    "b1.author = \"Brandon Sanderson\"\n",
    "print(b1.title)\n",
    "print(b1.author)\n",
    "\n",
    "b2 = Book()\n",
    "b2.title = \"The Way of Kings\"\n",
    "b2.author = \"Brandon Sanderson\"\n",
    "print(b2)\n",
    "print(b2.title)\n",
    "print(b2.author)"
   ]
  },
  {
   "cell_type": "code",
   "execution_count": null,
   "metadata": {},
   "outputs": [],
   "source": [
    "class ChatMessage:\n",
    "    def __init__(self, s, msg, dp, date, n, p, m, hs):\n",
    "        self.sender = s\n",
    "        self.last_msg = msg\n",
    "        self.dp = dp\n",
    "        self.date = date\n",
    "        self.notif = n\n",
    "        self.pinned = p\n",
    "        self.muted = m\n",
    "        self.has_status = hs\n",
    "\n",
    "cm1 = ChatMessage(\"Amazon Pay\", \"You have coupon\",\n",
    "                \"amazon.jpg\", date=\"12-12-24\",\n",
    "                n=0, p=False, m=False, hs=True  )\n",
    "dir(cm1)\n"
   ]
  },
  {
   "cell_type": "code",
   "execution_count": null,
   "metadata": {},
   "outputs": [],
   "source": [
    "class Student:\n",
    "    def __init__(self, name, std, roll_no):\n",
    "        self.name = name\n",
    "        self.std = std\n",
    "        self.roll_no = roll_no\n",
    "    def display(self):\n",
    "        print(\"Student --->\")\n",
    "        print(\"Name:\",self.name)\n",
    "        print(\"Standard:\",self.std)\n",
    "        print(\"Roll num:\",self.roll_no)\n",
    "        print(\"_\"*20)"
   ]
  },
  {
   "cell_type": "code",
   "execution_count": null,
   "metadata": {},
   "outputs": [],
   "source": [
    "s1 = Student(\"John\", 12, 101)\n",
    "s2 = Student(\"Jane\", 12, 102)\n",
    "s3 = Student(\"Jack\", 10, 103)\n",
    "s1.display()\n",
    "s2.display()\n",
    "s3.display()"
   ]
  },
  {
   "cell_type": "code",
   "execution_count": null,
   "metadata": {},
   "outputs": [],
   "source": [
    "from dataclasses import dataclass\n",
    "@dataclass\n",
    "class Pet:\n",
    "    pet_type: str\n",
    "    gender: str\n",
    "    color: str\n",
    "    age : int"
   ]
  },
  {
   "cell_type": "code",
   "execution_count": null,
   "metadata": {},
   "outputs": [],
   "source": [
    "p1 = Pet(pet_type='Cat', gender=\"Male\", color=\"Black\", age=2)\n",
    "p2 = Pet(pet_type='Parrot', gender=\"female\", color=\"Green\", age=1)\n",
    "p3 = Pet(pet_type='Dog', gender=\"female\", color=\"Brown\", age=1)\n",
    "print(p1)\n",
    "print(p2)\n",
    "print(p3)"
   ]
  },
  {
   "cell_type": "code",
   "execution_count": null,
   "metadata": {},
   "outputs": [],
   "source": [
    "class Rectangle:\n",
    "    def __init__(self, l, w):\n",
    "        self.length = l\n",
    "        self.width = w\n",
    "    def area(self):\n",
    "        return self.length * self.width\n",
    "    def perimeter(self):\n",
    "        return 2 * (self.length + self.width)\n",
    "    \n",
    "r1 = Rectangle(10, 20)\n",
    "r2 = Rectangle(5, 10)\n",
    "print(r1.area())\n",
    "print(r2.area())\n",
    "if r1.area() > r2.area():\n",
    "    print(\"r1 is bigger\")\n",
    "else:\n",
    "    print(\"r2 is bigger\")"
   ]
  },
  {
   "cell_type": "markdown",
   "metadata": {},
   "source": [
    "Inheritance\n",
    "- multi-level inheritance (A->B->C)\n",
    "```\n",
    "class SuperClass:\n",
    "    pass\n",
    "\n",
    "class SubClass(SuperClass):\n",
    "    pass\n",
    "\n",
    "class SubSubClass(SubClass):\n",
    "    pass\n",
    "```\n",
    "- multiple inheritance  (A,B->C)\n",
    "```\n",
    "class A:\n",
    "    pass\n",
    "\n",
    "class B:\n",
    "    pass\n",
    "    \n",
    "class C(A,B):\n",
    "    pass\n",
    "```"
   ]
  },
  {
   "cell_type": "code",
   "execution_count": null,
   "metadata": {},
   "outputs": [],
   "source": [
    "class Vehicle:\n",
    "    def __init__(self, brand, model):\n",
    "        self.brand = brand\n",
    "        self.model = model\n",
    "    def display(self):\n",
    "        print(f\"{self.brand}-{self.model}\")"
   ]
  },
  {
   "cell_type": "code",
   "execution_count": null,
   "metadata": {},
   "outputs": [],
   "source": [
    "# car, bike, truck\n",
    "class Car(Vehicle):\n",
    "    def __init__(self, brand,model, carType, seats):\n",
    "        super().__init__(brand, model)\n",
    "        self.carType = carType\n",
    "        self.seats = seats"
   ]
  },
  {
   "cell_type": "code",
   "execution_count": null,
   "metadata": {},
   "outputs": [],
   "source": [
    "c1 = Car(\"Toyota\", \"Corolla\", \"Sedan\", 5)\n",
    "c2 = Car(\"Honda\", \"Civic\", \"Sedan\", 5)\n",
    "c1.display()\n",
    "c2.display()"
   ]
  },
  {
   "cell_type": "code",
   "execution_count": null,
   "metadata": {},
   "outputs": [],
   "source": [
    "class SuperList(list):\n",
    "    def __init__(self, *args):\n",
    "        super().__init__(*args)\n",
    "    def sum(self):\n",
    "        clean_list = [x for x in self if isinstance(x, int)]\n",
    "        return sum(clean_list)"
   ]
  },
  {
   "cell_type": "code",
   "execution_count": null,
   "metadata": {},
   "outputs": [],
   "source": [
    "x = SuperList([1,'bat',2,3,'cat',4,'dat',5])\n",
    "print(x)\n",
    "print(x.sum())\n"
   ]
  },
  {
   "cell_type": "code",
   "execution_count": null,
   "metadata": {},
   "outputs": [],
   "source": [
    "# multiple inheritance\n",
    "import random\n",
    "class Wizard:\n",
    "    def __init__(self, spells):\n",
    "        self.spells = spells    \n",
    "    def cast_spell(self):\n",
    "        print(f\"casting spell {random.choice(self.spells)}\")\n",
    "\n",
    "class Warrior:\n",
    "    def __init__(self, weapons):\n",
    "        self.weapons = weapons\n",
    "    def attack(self):\n",
    "        print(f\"attacking with {random.choice(self.weapons)}\")\n",
    "    \n",
    "class BattleMage(Wizard, Warrior):\n",
    "    def __init__(self, spells, weapons):\n",
    "        Wizard.__init__(self, spells)\n",
    "        Warrior.__init__(self, weapons)\n",
    "    \n",
    "    def fight(self):\n",
    "        self.cast_spell()\n",
    "        self.attack()"
   ]
  },
  {
   "cell_type": "code",
   "execution_count": null,
   "metadata": {},
   "outputs": [],
   "source": [
    "w = Warrior([\"Sword\", \"Axe\", \"Mace\"])\n",
    "wz = Wizard([\"Fireball\", \"Iceball\", \"Lightning\"])\n",
    "bm = BattleMage([\"Fireball\", \"Iceball\", \"Lightning\"], [\"Sword\", \"Axe\", \"Mace\"])\n",
    "print(\"warrior\")\n",
    "w.attack()\n",
    "print(\"Wizard\")\n",
    "wz.cast_spell()\n",
    "print(\"BattleMage\")\n",
    "bm.fight()"
   ]
  },
  {
   "cell_type": "code",
   "execution_count": null,
   "metadata": {},
   "outputs": [],
   "source": []
  }
 ],
 "metadata": {
  "kernelspec": {
   "display_name": "base",
   "language": "python",
   "name": "python3"
  },
  "language_info": {
   "codemirror_mode": {
    "name": "ipython",
    "version": 3
   },
   "file_extension": ".py",
   "mimetype": "text/x-python",
   "name": "python",
   "nbconvert_exporter": "python",
   "pygments_lexer": "ipython3",
   "version": "3.12.2"
  }
 },
 "nbformat": 4,
 "nbformat_minor": 2
}
