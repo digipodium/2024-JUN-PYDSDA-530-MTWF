{
 "cells": [
  {
   "cell_type": "markdown",
   "metadata": {},
   "source": [
    "# SQLalchemy\n",
    "Database  <-> Python\n",
    "```\n",
    "pip install sqlalchemy\n",
    "``` "
   ]
  },
  {
   "cell_type": "code",
   "execution_count": null,
   "metadata": {},
   "outputs": [],
   "source": [
    "from sqlalchemy import create_engine\n",
    "from sqlalchemy.orm import sessionmaker, declarative_base\n",
    "from sqlalchemy import Column, Integer, String, DateTime\n",
    "from datetime import datetime"
   ]
  },
  {
   "cell_type": "code",
   "execution_count": null,
   "metadata": {},
   "outputs": [],
   "source": [
    "Base = declarative_base()\n",
    "class Task(Base):\n",
    "    __tablename__ = 'tasks'\n",
    "    id = Column(Integer, primary_key=True)\n",
    "    task = Column(String)\n",
    "    deadline = Column(DateTime, default=datetime.now())"
   ]
  },
  {
   "cell_type": "code",
   "execution_count": null,
   "metadata": {},
   "outputs": [],
   "source": [
    "engine = create_engine(\"sqlite:///mydb.sqlite3\", echo=True)\n",
    "Base.metadata.create_all(engine)"
   ]
  },
  {
   "cell_type": "code",
   "execution_count": null,
   "metadata": {},
   "outputs": [],
   "source": [
    "def open_db():\n",
    "    engine = create_engine(\"sqlite:///mydb.sqlite3\")\n",
    "    Session = sessionmaker(bind=engine)\n",
    "    return Session()"
   ]
  },
  {
   "cell_type": "markdown",
   "metadata": {},
   "source": [
    "ORM - Object relational mapper"
   ]
  },
  {
   "cell_type": "code",
   "execution_count": null,
   "metadata": {},
   "outputs": [],
   "source": [
    "# adding new values\n",
    "db = open_db()\n",
    "db.add(Task(task=\"Learn SQLAlchemy\", deadline=datetime(2024, 8, 1))) # 1st August 2024\n",
    "db.add(Task(task=\"Happy Independence Day\"))\n",
    "db.add(Task(task=\"Take out the trash\"))\n",
    "db.add(Task(task=\"Clean the fridge\", deadline=datetime(2024, 8, 23)))\n",
    "db.add(Task(task=\"Generate reports\", deadline=datetime(2024, 8, 16)))\n",
    "db.add(Task(task=\"Pay subscription fees\", deadline=datetime(2024, 8, 18)))\n",
    "db.add(Task(task=\"Celebrate birthday\", deadline=datetime(2024, 8, 25)))\n",
    "db.commit()\n",
    "db.close()"
   ]
  },
  {
   "cell_type": "markdown",
   "metadata": {},
   "source": [
    "# querying the database\n",
    "- get all the data\n",
    "- get specific data using filter"
   ]
  },
  {
   "cell_type": "code",
   "execution_count": null,
   "metadata": {},
   "outputs": [],
   "source": [
    "# all the data\n",
    "db = open_db()  # open the database\n",
    "tasks = db.query(Task).all()\n",
    "for item in tasks:\n",
    "    print(f'#{item.id} | {item.task:30} | {item.deadline.date()} | {item.deadline.time()}')\n",
    "db.close()  # close the database"
   ]
  },
  {
   "cell_type": "code",
   "execution_count": null,
   "metadata": {},
   "outputs": [],
   "source": [
    "# get item by id\n",
    "id = 6\n",
    "db = open_db()\n",
    "task = db.get(Task, id)\n",
    "if task:\n",
    "    print(f'#{task.id} | {task.task:30} | {task.deadline.date()} | {task.deadline.time()}')"
   ]
  },
  {
   "cell_type": "code",
   "execution_count": null,
   "metadata": {},
   "outputs": [],
   "source": [
    "# filter item by title\n",
    "title = \"Take out the trash\"\n",
    "db = open_db()\n",
    "tasks = db.query(Task).filter(Task.task == title).all()\n",
    "for item in tasks:\n",
    "    print(f'#{item.id} | {item.task:30} | {item.deadline.date()} | {item.deadline.time()}')\n",
    "db.close()"
   ]
  },
  {
   "cell_type": "code",
   "execution_count": null,
   "metadata": {},
   "outputs": [],
   "source": [
    "# filter item by date\n",
    "date = \"16-08-2024\"\n",
    "date = datetime.strptime(date, \"%d-%m-%Y\")\n",
    "db = open_db()\n",
    "tasks = db.query(Task).filter(Task.deadline == date).all()\n",
    "for item in tasks:\n",
    "    print(f'#{item.id} | {item.task:30} | {item.deadline.date()} | {item.deadline.time()}')\n",
    "db.close()"
   ]
  },
  {
   "cell_type": "code",
   "execution_count": null,
   "metadata": {},
   "outputs": [],
   "source": [
    "db = open_db()\n",
    "tasks = db.query(Task).filter(Task.task.icontains(\"day\")).all()\n",
    "for item in tasks:\n",
    "    print(f'#{item.id} | {item.task:30} | {item.deadline.date()} | {item.deadline.time()}')"
   ]
  },
  {
   "cell_type": "code",
   "execution_count": null,
   "metadata": {},
   "outputs": [],
   "source": [
    "# update item\n",
    "id = 7\n",
    "db = open_db()\n",
    "result = db.get(Task, id)\n",
    "if result:\n",
    "    result.task = \"Generate student reports\"\n",
    "    result.deadline = datetime(2024, 8, 20)\n",
    "    db.commit()\n",
    "db.close()\n"
   ]
  },
  {
   "cell_type": "code",
   "execution_count": null,
   "metadata": {},
   "outputs": [],
   "source": [
    "# delete item\n",
    "id = 6\n",
    "db = open_db()\n",
    "result = db.get(Task, id)\n",
    "if result:\n",
    "    db.delete(result)\n",
    "    db.commit()\n",
    "    print(\"Item deleted\")\n",
    "db.close()"
   ]
  },
  {
   "cell_type": "code",
   "execution_count": null,
   "metadata": {},
   "outputs": [],
   "source": []
  }
 ],
 "metadata": {
  "kernelspec": {
   "display_name": "base",
   "language": "python",
   "name": "python3"
  },
  "language_info": {
   "codemirror_mode": {
    "name": "ipython",
    "version": 3
   },
   "file_extension": ".py",
   "mimetype": "text/x-python",
   "name": "python",
   "nbconvert_exporter": "python",
   "pygments_lexer": "ipython3",
   "version": "3.12.2"
  }
 },
 "nbformat": 4,
 "nbformat_minor": 2
}
