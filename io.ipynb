{
 "cells": [
  {
   "cell_type": "code",
   "execution_count": null,
   "metadata": {},
   "outputs": [],
   "source": [
    "p = 12000\n",
    "r = 10.49\n",
    "t = 5\n",
    "si = p*r*t/100\n",
    "si"
   ]
  },
  {
   "cell_type": "markdown",
   "metadata": {},
   "source": [
    "example\n",
    "`ans = input(\"prompt\")`"
   ]
  },
  {
   "cell_type": "code",
   "execution_count": null,
   "metadata": {},
   "outputs": [],
   "source": [
    "input(\"Enter you name\")"
   ]
  },
  {
   "cell_type": "code",
   "execution_count": null,
   "metadata": {},
   "outputs": [],
   "source": [
    "name = input('Enter your name')\n",
    "city = input('Enter your city')\n",
    "color = input('Enter your favorite color')\n",
    "fruit = input('Enter your favorite fruit')\n",
    "luckynum = input('Enter your lucky number')"
   ]
  },
  {
   "cell_type": "code",
   "execution_count": null,
   "metadata": {},
   "outputs": [],
   "source": [
    "a = input('enter a number')\n",
    "b = input('enter a number')\n",
    "print(a+b)"
   ]
  },
  {
   "cell_type": "markdown",
   "metadata": {},
   "source": [
    "typecasting\n",
    "\n",
    "from one datatype => another\n",
    "str => int(variable) => int"
   ]
  },
  {
   "cell_type": "code",
   "execution_count": null,
   "metadata": {},
   "outputs": [],
   "source": [
    "float(\"12.20\")"
   ]
  },
  {
   "cell_type": "code",
   "execution_count": null,
   "metadata": {},
   "outputs": [],
   "source": [
    "a = 10\n",
    "b = \"10a\"\n",
    "c = \"10.20\"\n",
    "d = 10.20\n",
    "print(type(a))\n",
    "print(type(b))\n",
    "print(type(c))\n",
    "print(type(d))"
   ]
  },
  {
   "cell_type": "code",
   "execution_count": null,
   "metadata": {},
   "outputs": [],
   "source": [
    "print(float(a))\n",
    "print(str(a))\n",
    "print(bool(a))\n"
   ]
  },
  {
   "cell_type": "code",
   "execution_count": null,
   "metadata": {},
   "outputs": [],
   "source": [
    "a = input('enter a number')\n",
    "b = input('enter a number')\n",
    "c = int(a)+int(b)\n",
    "print(c)"
   ]
  },
  {
   "cell_type": "code",
   "execution_count": null,
   "metadata": {},
   "outputs": [],
   "source": [
    "a = int(input('enter a number'))\n",
    "b = int(input('enter a number'))\n",
    "c = a + b\n",
    "print(c)"
   ]
  },
  {
   "cell_type": "code",
   "execution_count": null,
   "metadata": {},
   "outputs": [],
   "source": [
    "p = int(input(\"enter ur principal\"))\n",
    "r = int(input(\"enter ur rate\"))\n",
    "t = int(input(\"enter ur time\"))\n",
    "si = p*r*t/100\n",
    "print(si)"
   ]
  },
  {
   "cell_type": "markdown",
   "metadata": {},
   "source": [
    "formatted output\n",
    "\n",
    "answer: 12 - 3 = 9"
   ]
  },
  {
   "cell_type": "code",
   "execution_count": null,
   "metadata": {},
   "outputs": [],
   "source": [
    "a = 12\n",
    "b = 3\n",
    "c = a - b\n",
    "print(\"answer:\", a, '-', b, '=', c)"
   ]
  },
  {
   "cell_type": "code",
   "execution_count": null,
   "metadata": {},
   "outputs": [],
   "source": [
    "p = int(input(\"enter ur principle\"))\n",
    "r = int(input(\"enter ur rate\"))\n",
    "t = int(input(\"enter ur time\"))\n",
    "si = p*r*t/100\n",
    "\n",
    "print(\"Simple interest calculator\")\n",
    "print(\"Priciple =\", p, '💵')\n",
    "print(\"Rate =\", r, '%',)\n",
    "print(\"Time =\", t, 'years')\n",
    "print('_'* 15)\n",
    "print(\"Simple Interest =\", si)"
   ]
  },
  {
   "cell_type": "code",
   "execution_count": null,
   "metadata": {},
   "outputs": [],
   "source": [
    "print(a,b,c,d, sep=\"👍👎\")"
   ]
  },
  {
   "cell_type": "code",
   "execution_count": null,
   "metadata": {},
   "outputs": [],
   "source": [
    "print(*'hello', sep='-') # advance version (not to be discussed)\n",
    "fruits = ['apple', 'banana', 'cherry']\n",
    "print(*fruits, sep=', ') # advance version (not to be discussed)"
   ]
  },
  {
   "cell_type": "markdown",
   "metadata": {},
   "source": [
    "string interpolation for formatted output"
   ]
  },
  {
   "cell_type": "code",
   "execution_count": 55,
   "metadata": {},
   "outputs": [
    {
     "name": "stdout",
     "output_type": "stream",
     "text": [
      "answer: 12 - 3 = 9\n",
      "answer: 12 - 3 = 9\n"
     ]
    }
   ],
   "source": [
    "a = 12\n",
    "b = 3\n",
    "c = a - b\n",
    "print(\"answer:\", a, '-', b, '=', c)\n",
    "print(f\"answer: {a} - {b} = {c}\")"
   ]
  },
  {
   "cell_type": "code",
   "execution_count": 59,
   "metadata": {},
   "outputs": [
    {
     "name": "stdout",
     "output_type": "stream",
     "text": [
      "Area of Triangle\n",
      "Base = 20 cm\n",
      "Height = 5 cm\n",
      "_______________\n",
      "Area = 50.0 cm\n"
     ]
    }
   ],
   "source": [
    "# area of triangle\n",
    "b = int(input(\"enter the base of the triangle\"))\n",
    "h = int(input(\"enter the height of the triangle\"))\n",
    "area = 1/2*b*h\n",
    "print(\"Area of Triangle\")\n",
    "print(f'Base = {b} cm')\n",
    "print(f'Height = {h} cm')\n",
    "print('_'*15)\n",
    "print(f'Area = {area} cm')"
   ]
  },
  {
   "cell_type": "code",
   "execution_count": 7,
   "metadata": {},
   "outputs": [
    {
     "name": "stdout",
     "output_type": "stream",
     "text": [
      "3\n",
      "3.3\n",
      "3.33\n",
      "3.333\n"
     ]
    }
   ],
   "source": [
    "# round function should be used with expression\n",
    "print(round(10/3))\n",
    "print(round(10/3, 1))\n",
    "print(round(10/3, 2))\n",
    "print(round(10/3, 3))"
   ]
  },
  {
   "cell_type": "code",
   "execution_count": 17,
   "metadata": {},
   "outputs": [
    {
     "name": "stdout",
     "output_type": "stream",
     "text": [
      "10 divided by 7 is 1.4285714285714286\n",
      "10 divided by 7 is 1.4\n",
      "10 divided by 7 is 1.43\n",
      "10 divided by 7 is 1.429\n"
     ]
    }
   ],
   "source": [
    "# displaying decimal points in numbers\n",
    "a = 10\n",
    "b = 7\n",
    "c = a/b\n",
    "print(f'{a} divided by {b} is {a/b}')\n",
    "print(f'{a} divided by {b} is {a/b:.1f}')\n",
    "print(f'{a} divided by {b} is {a/b:.2f}')\n",
    "print(f'{a} divided by {b} is {c:.3f}')"
   ]
  },
  {
   "cell_type": "code",
   "execution_count": 29,
   "metadata": {},
   "outputs": [
    {
     "name": "stdout",
     "output_type": "stream",
     "text": [
      "                        The final empire |  Brandon Sanderson   | 499\n",
      "                          The art of war |       Sun Tzu        | 239\n",
      "   Stormlight Archives: The way of kings |  Brandon Sanderson   | 550\n"
     ]
    }
   ],
   "source": [
    "# text alignment\n",
    "n1 = \"The final empire\"\n",
    "a1 = 'Brandon Sanderson'\n",
    "p1 = 499\n",
    "n2 = 'The art of war'\n",
    "a2 = 'Sun Tzu'\n",
    "p2 = 239\n",
    "n3 = 'Stormlight Archives: The way of kings'\n",
    "a3 = 'Brandon Sanderson'\n",
    "p3 = 550\n",
    "\n",
    "print(f'{n1:>40} | {a1:^20} | {p1}')\n",
    "print(f'{n2:>40} | {a2:^20} | {p2}')\n",
    "print(f'{n3:>40} | {a3:^20} | {p3}')"
   ]
  },
  {
   "cell_type": "code",
   "execution_count": null,
   "metadata": {},
   "outputs": [],
   "source": []
  }
 ],
 "metadata": {
  "kernelspec": {
   "display_name": "base",
   "language": "python",
   "name": "python3"
  },
  "language_info": {
   "codemirror_mode": {
    "name": "ipython",
    "version": 3
   },
   "file_extension": ".py",
   "mimetype": "text/x-python",
   "name": "python",
   "nbconvert_exporter": "python",
   "pygments_lexer": "ipython3",
   "version": "3.12.2"
  }
 },
 "nbformat": 4,
 "nbformat_minor": 2
}
