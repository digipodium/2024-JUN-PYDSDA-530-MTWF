{
 "cells": [
  {
   "cell_type": "code",
   "execution_count": null,
   "metadata": {},
   "outputs": [],
   "source": [
    "import os"
   ]
  },
  {
   "cell_type": "code",
   "execution_count": null,
   "metadata": {},
   "outputs": [],
   "source": [
    "BASE_DIR = os.getcwd()\n",
    "print(BASE_DIR)"
   ]
  },
  {
   "cell_type": "code",
   "execution_count": null,
   "metadata": {},
   "outputs": [],
   "source": [
    "content = os.listdir()\n",
    "print(content)"
   ]
  },
  {
   "cell_type": "code",
   "execution_count": null,
   "metadata": {},
   "outputs": [],
   "source": [
    "addr = r'C:\\Program Files'\n",
    "content = os.listdir(addr) \n",
    "print(f'Total content: {len(content)}')"
   ]
  },
  {
   "cell_type": "code",
   "execution_count": null,
   "metadata": {},
   "outputs": [],
   "source": [
    "os.listdrives()"
   ]
  },
  {
   "cell_type": "code",
   "execution_count": null,
   "metadata": {},
   "outputs": [],
   "source": [
    "os.chdir(\"E:\")\n",
    "print(os.listdir())"
   ]
  },
  {
   "cell_type": "code",
   "execution_count": null,
   "metadata": {},
   "outputs": [],
   "source": [
    "os.getcwd()"
   ]
  },
  {
   "cell_type": "code",
   "execution_count": null,
   "metadata": {},
   "outputs": [],
   "source": [
    "os.makedirs(\"mynotes\", exist_ok=True)"
   ]
  },
  {
   "cell_type": "markdown",
   "metadata": {},
   "source": [
    "# python file handling\n",
    "`open()` - opens file resources and returns a file object.\n",
    "- modes\n",
    "  - 'r' - read mode (default)\n",
    "  - 'w' - write mode\n",
    "  - 'a' - append mode"
   ]
  },
  {
   "cell_type": "code",
   "execution_count": null,
   "metadata": {},
   "outputs": [],
   "source": [
    "with open('mynotes/note1.txt', 'w') as f:\n",
    "    f.write(\"This is my first note:\\n\")\n",
    "    f.write(\"Python file handling is super easy\\n\")\n",
    "    f.write(\"You can create and delete files easily\\n\")"
   ]
  },
  {
   "cell_type": "markdown",
   "metadata": {},
   "source": [
    "```python\n",
    "with open('file.txt', 'w') as file:\n",
    "    file.write(kahani)\n",
    "```"
   ]
  },
  {
   "cell_type": "code",
   "execution_count": null,
   "metadata": {},
   "outputs": [],
   "source": [
    "with open('mynotes/note1.txt', 'a') as f:\n",
    "    f.write(\"Os module is the best\\n\")\n",
    "    f.write(\"Python file handling is super easy\\n\")\n",
    "    f.write(\"🤩🤩🤩\\n\")"
   ]
  },
  {
   "cell_type": "code",
   "execution_count": null,
   "metadata": {},
   "outputs": [],
   "source": [
    "with open(\"mynotes/note1.txt\") as file:\n",
    "    data = file.read()\n",
    "print(data)"
   ]
  },
  {
   "cell_type": "code",
   "execution_count": null,
   "metadata": {},
   "outputs": [],
   "source": [
    "with open(r'C:\\Users\\ZAID\\Documents\\2024_coding\\2024 JUN PYDSDA 530 MTWF\\kahani.py') as f:\n",
    "    data = f.read()\n",
    "print(data)"
   ]
  },
  {
   "cell_type": "code",
   "execution_count": 34,
   "metadata": {},
   "outputs": [
    {
     "name": "stdout",
     "output_type": "stream",
     "text": [
      "['319637579900000000.pdf', '992_04_accepted_BK.pdf', '992_14_accepted_BK.pdf', 'Aminotes - NTCC Project Virtual Reality.pdf', 'Author_Agreement_Zaid_Kamil_.pdf', 'CAMSKRA_latest_Form_KYC.pdf', 'Daily Dose of Data Science - Archive.pdf', 'DigiKotlin.pdf', 'Digipodium_Renewal.quote.pdf', 'front page-1.pdf', 'Learn Python The Hard Way, 3rd Edition .pdf', 'microsoft_annual_report_2022.pdf', 'MO_CODES_Numerical_20180627.pdf', 'my resume - 2024-07-06 20_08_52.pdf', 'Neural_Networks_Overview.pdf', 'Pharma Website Planning and Proposal.pdf', 'Profile.pdf', 'Project_Guidelines@BCA (Even Sem. 2023-24).pdf', 'Synopsis_Format.pdf']\n"
     ]
    }
   ],
   "source": [
    "items = os.listdir('C:/Users/Zaid/Downloads')\n",
    "pdfs = list(filter(lambda file: file.endswith('.pdf'), items))\n",
    "print(pdfs)"
   ]
  },
  {
   "cell_type": "code",
   "execution_count": 40,
   "metadata": {},
   "outputs": [
    {
     "name": "stdout",
     "output_type": "stream",
     "text": [
      "319637579900000000.pdf                             344.90 KB\n",
      "992_04_accepted_BK.pdf                             1101.53 KB\n",
      "992_14_accepted_BK.pdf                             3199.89 KB\n",
      "Aminotes - NTCC Project Virtual Reality.pdf        1066.25 KB\n",
      "Author_Agreement_Zaid_Kamil_.pdf                   787.95 KB\n",
      "CAMSKRA_latest_Form_KYC.pdf                        314.00 KB\n",
      "Daily Dose of Data Science - Archive.pdf           111921.63 KB\n",
      "DigiKotlin.pdf                                     249.55 KB\n",
      "Digipodium_Renewal.quote.pdf                       28.71 KB\n",
      "front page-1.pdf                                   952.65 KB\n",
      "Learn Python The Hard Way, 3rd Edition .pdf        5668.30 KB\n",
      "microsoft_annual_report_2022.pdf                   1255.37 KB\n",
      "MO_CODES_Numerical_20180627.pdf                    191.64 KB\n",
      "my resume - 2024-07-06 20_08_52.pdf                23.95 KB\n",
      "Neural_Networks_Overview.pdf                       13259.47 KB\n",
      "Pharma Website Planning and Proposal.pdf           204.41 KB\n",
      "Profile.pdf                                        48.22 KB\n",
      "Project_Guidelines@BCA (Even Sem. 2023-24).pdf     1043.35 KB\n",
      "Synopsis_Format.pdf                                282.47 KB\n"
     ]
    }
   ],
   "source": [
    "for file in pdfs:\n",
    "    path = f'C:/Users/Zaid/Downloads/{file}'\n",
    "    size = os.path.getsize(path)\n",
    "    print(f'{file:50} {size/1024:.2f} KB')"
   ]
  },
  {
   "cell_type": "code",
   "execution_count": null,
   "metadata": {},
   "outputs": [],
   "source": []
  }
 ],
 "metadata": {
  "kernelspec": {
   "display_name": "base",
   "language": "python",
   "name": "python3"
  },
  "language_info": {
   "codemirror_mode": {
    "name": "ipython",
    "version": 3
   },
   "file_extension": ".py",
   "mimetype": "text/x-python",
   "name": "python",
   "nbconvert_exporter": "python",
   "pygments_lexer": "ipython3",
   "version": "3.12.2"
  }
 },
 "nbformat": 4,
 "nbformat_minor": 2
}
