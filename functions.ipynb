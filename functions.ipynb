{
 "cells": [
  {
   "cell_type": "markdown",
   "metadata": {},
   "source": [
    "# function syntax\n",
    "\n",
    "```python\n",
    "# creating a function\n",
    "def func_name(param1, param2, ...):\n",
    "    # code here\n",
    "    # ...\n",
    "    return result\n",
    "\n",
    "```\n",
    "\n",
    "```python\n",
    "# use a function/call a function\n",
    "result = func_name(arg1, arg2, ...)\n",
    "```"
   ]
  },
  {
   "cell_type": "code",
   "execution_count": null,
   "metadata": {},
   "outputs": [],
   "source": [
    "def si(p, r, t):\n",
    "    return p*r*t/100"
   ]
  },
  {
   "cell_type": "code",
   "execution_count": null,
   "metadata": {},
   "outputs": [],
   "source": [
    "si(12000, 3.33, 5)"
   ]
  },
  {
   "cell_type": "code",
   "execution_count": null,
   "metadata": {},
   "outputs": [],
   "source": [
    "def info(l, w):\n",
    "    area = l*w\n",
    "    perimeter = 2*(l+w)\n",
    "    return area, perimeter"
   ]
  },
  {
   "cell_type": "code",
   "execution_count": null,
   "metadata": {},
   "outputs": [],
   "source": [
    "info(20, 50)"
   ]
  },
  {
   "cell_type": "code",
   "execution_count": null,
   "metadata": {},
   "outputs": [],
   "source": [
    "a, p = info(20, 10) # tuple unpacking\n",
    "print(f'Area:{a}, Perimeter:{p}')"
   ]
  },
  {
   "cell_type": "code",
   "execution_count": null,
   "metadata": {},
   "outputs": [],
   "source": [
    "def acronym(name):\n",
    "    result = ''\n",
    "    for word in name.split():\n",
    "        # print(word[0])\n",
    "        result+=word[0]     # first letter\n",
    "    return result"
   ]
  },
  {
   "cell_type": "code",
   "execution_count": null,
   "metadata": {},
   "outputs": [],
   "source": [
    "acronym(\"Artificial Intelligence\")"
   ]
  },
  {
   "cell_type": "code",
   "execution_count": null,
   "metadata": {},
   "outputs": [],
   "source": [
    "names = ['Sam Altman', 'Guido Von Rossum', 'Tim Bell']\n",
    "acr = [acronym(name) for name in names]\n",
    "print(names)\n",
    "print(acr)"
   ]
  },
  {
   "cell_type": "markdown",
   "metadata": {},
   "source": [
    "- default parameters\n",
    "- variables arguments\n",
    "- lambda expression"
   ]
  },
  {
   "cell_type": "code",
   "execution_count": null,
   "metadata": {},
   "outputs": [],
   "source": [
    "def power(number, exp=2):\n",
    "    return number ** exp\n",
    "\n",
    "print(power(5))\n",
    "print(power(5, 10))\n",
    "print(power(5, 3))"
   ]
  },
  {
   "cell_type": "code",
   "execution_count": null,
   "metadata": {},
   "outputs": [],
   "source": [
    "def summer(a=0, b=0, c=0, d=0):\n",
    "    return a + b + c + d\n",
    "\n",
    "print(summer())\n",
    "print(summer(120))\n",
    "print(summer(2,3,4,5))\n",
    "print(summer(2,3))\n",
    "print(summer(a = 2,c = 6))\n",
    "print(summer(a = 2,c = 6,d = 20))\n"
   ]
  },
  {
   "cell_type": "code",
   "execution_count": null,
   "metadata": {},
   "outputs": [],
   "source": [
    "sum([1,2,3,4])"
   ]
  },
  {
   "cell_type": "code",
   "execution_count": null,
   "metadata": {},
   "outputs": [],
   "source": [
    "def stats(*numbers, action='sum'):\n",
    "    if action == 'sum':\n",
    "        return sum(numbers)\n",
    "    if action == 'mean':\n",
    "        return sum(numbers)/len(numbers)\n",
    "    if action == 'count':\n",
    "        return len(numbers)\n",
    "    if action == 'min':\n",
    "        return min(numbers)\n",
    "    \n",
    "\n",
    "print(stats(11,12,13,14))\n",
    "print(stats(11,12,13,14, action='mean'))\n",
    "print(stats(1,1,1,2,1,3,1,1,4, action='min'))\n",
    "print(stats(11,12,13, action='count'))"
   ]
  },
  {
   "cell_type": "code",
   "execution_count": null,
   "metadata": {},
   "outputs": [],
   "source": [
    "# any function that is not returning anything is returning None\n",
    "def greeting():\n",
    "    print(\"hello\")\n",
    "    print(\"world\")"
   ]
  },
  {
   "cell_type": "code",
   "execution_count": null,
   "metadata": {},
   "outputs": [],
   "source": [
    "print(greeting())"
   ]
  },
  {
   "cell_type": "code",
   "execution_count": null,
   "metadata": {},
   "outputs": [],
   "source": [
    "# higher order function (sar k upar se jayega)\n",
    "def apply(func, data):\n",
    "    return [func(x) for x in data]\n",
    "\n",
    "def square(x):\n",
    "    return x ** 2\n",
    "\n",
    "def cube(x):\n",
    "    return x ** 3\n",
    "\n",
    "# implement a function that takes a list of numbers and a function\n",
    "ans = apply(square, [1,2,3,4,5])\n",
    "print(ans)\n",
    "ans = apply(cube, [1,2,3,4,5])\n",
    "print(ans)"
   ]
  },
  {
   "cell_type": "markdown",
   "metadata": {},
   "source": [
    "lambda expression"
   ]
  },
  {
   "cell_type": "markdown",
   "metadata": {},
   "source": [
    "`f(x) = x**2 + 10`\n",
    "\n",
    "`g(x,y) = x*2 + y*2 - x+y`"
   ]
  },
  {
   "cell_type": "code",
   "execution_count": null,
   "metadata": {},
   "outputs": [],
   "source": [
    "f = lambda x: x**2 + 10\n",
    "print(f)\n",
    "print(f(2))\n",
    "print(f(5))\n",
    "print(f(10))"
   ]
  },
  {
   "cell_type": "code",
   "execution_count": 77,
   "metadata": {},
   "outputs": [
    {
     "name": "stdout",
     "output_type": "stream",
     "text": [
      "11\n",
      "12\n",
      "82\n"
     ]
    }
   ],
   "source": [
    "g = lambda x, y: x*2 + y*2 - x + y\n",
    "print(g(2,3))\n",
    "print(g(3,3))\n",
    "print(g(13,23))"
   ]
  },
  {
   "cell_type": "code",
   "execution_count": null,
   "metadata": {},
   "outputs": [],
   "source": []
  }
 ],
 "metadata": {
  "kernelspec": {
   "display_name": "base",
   "language": "python",
   "name": "python3"
  },
  "language_info": {
   "codemirror_mode": {
    "name": "ipython",
    "version": 3
   },
   "file_extension": ".py",
   "mimetype": "text/x-python",
   "name": "python",
   "nbconvert_exporter": "python",
   "pygments_lexer": "ipython3",
   "version": "3.12.2"
  }
 },
 "nbformat": 4,
 "nbformat_minor": 2
}
