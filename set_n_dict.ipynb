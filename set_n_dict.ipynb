{
 "cells": [
  {
   "cell_type": "markdown",
   "metadata": {},
   "source": [
    "# set\n",
    "- create\n",
    "- method"
   ]
  },
  {
   "cell_type": "code",
   "execution_count": null,
   "metadata": {},
   "outputs": [],
   "source": [
    "x = set() # empty\n",
    "print(x)\n",
    "y = {1,2,3,4,5,6,1,2}\n",
    "print(y)\n",
    "fruits = {\"apple\", \"banana\", \"cherry\"}\n",
    "print(fruits)\n",
    "data = {'apple',205, 3.14, 'banana'}\n",
    "print(data)\n",
    "a = set([1,2,3,4,5,6,7,8,9,10])\n",
    "b = set(\"harry potter\")\n",
    "print(a)\n",
    "print(b)"
   ]
  },
  {
   "cell_type": "code",
   "execution_count": null,
   "metadata": {},
   "outputs": [],
   "source": [
    "a = set()\n",
    "a.add(\"The final empire\")\n",
    "a.add(\"The hero of ages\")\n",
    "a.add(\"The well of ascension\")\n",
    "print(a)"
   ]
  },
  {
   "cell_type": "code",
   "execution_count": null,
   "metadata": {},
   "outputs": [],
   "source": [
    "a.update(['AppleSeed','ApplePie','AppleCider'])\n",
    "print(a)"
   ]
  },
  {
   "cell_type": "code",
   "execution_count": null,
   "metadata": {},
   "outputs": [],
   "source": [
    "a.add(\"AppleSeed\") # not added\n",
    "print(a) # no duplicates"
   ]
  },
  {
   "cell_type": "code",
   "execution_count": null,
   "metadata": {},
   "outputs": [],
   "source": [
    "a.discard(\"AppleSeed\")\n",
    "a.discard(\"ApplePie\") # no error\n",
    "a.discard(\"AppleSeed\")\n",
    "print(a)"
   ]
  },
  {
   "cell_type": "code",
   "execution_count": null,
   "metadata": {},
   "outputs": [],
   "source": [
    "a = {1,2,3}\n",
    "b = {3,4,5}\n",
    "c = {6,7,8}\n",
    "ab = a.union(b)\n",
    "print(ab)\n",
    "print(a.union(b,c))\n",
    "print(a | b | c) # | is union"
   ]
  },
  {
   "cell_type": "code",
   "execution_count": null,
   "metadata": {},
   "outputs": [],
   "source": [
    "print(a.intersection(b))\n",
    "print(a & b) # & is intersection\n",
    "print(a & c)\n",
    "print(a & b & c)"
   ]
  },
  {
   "cell_type": "code",
   "execution_count": null,
   "metadata": {},
   "outputs": [],
   "source": [
    "print(a.difference(b))\n",
    "print(b.difference(a))\n",
    "print(a - b) # - is difference"
   ]
  },
  {
   "cell_type": "code",
   "execution_count": null,
   "metadata": {},
   "outputs": [],
   "source": [
    "print(a.symmetric_difference(b))\n",
    "print(a ^ b) # ^ is symmetric difference"
   ]
  },
  {
   "cell_type": "markdown",
   "metadata": {},
   "source": [
    "# Dictionary"
   ]
  },
  {
   "cell_type": "code",
   "execution_count": null,
   "metadata": {},
   "outputs": [],
   "source": [
    "data = [\"Alex\", True, False, 29, \"New York\", \"Photographer\"]\n",
    "\n",
    "datadict = {\n",
    "    'name': 'Alex',\n",
    "    'isMarried': True,\n",
    "    'hasChildren': False,\n",
    "    'age': 29,\n",
    "    'city': 'New York',\n",
    "    'profession': 'Photographer'\n",
    "}\n",
    "\n",
    "movies = {} # empty dictionary\n",
    "\n",
    "expenditure = dict(\n",
    "    food = 500,\n",
    "    rent = 1700,\n",
    "    insurance = 200,\n",
    ")\n",
    "\n",
    "print(datadict)\n",
    "print(expenditure)  "
   ]
  },
  {
   "cell_type": "markdown",
   "metadata": {},
   "source": [
    "- creating ✅\n",
    "- accessing\n",
    "- add or update\n",
    "- remove\n",
    "- traversal"
   ]
  },
  {
   "cell_type": "code",
   "execution_count": null,
   "metadata": {},
   "outputs": [],
   "source": [
    "print(datadict['name'])\n",
    "print(datadict['isMarried'])\n",
    "print(datadict['city'])\n",
    "# print(datadict['state']) # KeyError"
   ]
  },
  {
   "cell_type": "code",
   "execution_count": null,
   "metadata": {},
   "outputs": [],
   "source": [
    "print(datadict.get('city'))\n",
    "print(datadict.get('City'))     # City is not in the dictionary\n",
    "print(datadict.get('age', 100)) # default value not used\n",
    "print(datadict.get('AGE', 100)) # AGE is not in the dictionary"
   ]
  },
  {
   "cell_type": "code",
   "execution_count": null,
   "metadata": {},
   "outputs": [],
   "source": [
    "movies['Deadpool & Wolverine'] = \"Shawn Levy\" \n",
    "movies['BahuBali'] = \"SS Rajamouli\"\n",
    "movies['Inception'] = \"Christopher Nolan\"\n",
    "print(movies)"
   ]
  },
  {
   "cell_type": "code",
   "execution_count": null,
   "metadata": {},
   "outputs": [],
   "source": [
    "movies.update(\n",
    "    {\n",
    "    'The Dark Knight': 'Christopher Nolan', \n",
    "    'The Prestige': 'Christopher Nolan',\n",
    "    'The Matrix': 'Wachowski Brothers',\n",
    "    }\n",
    ")\n",
    "print(movies)"
   ]
  },
  {
   "cell_type": "code",
   "execution_count": null,
   "metadata": {},
   "outputs": [],
   "source": [
    "datadict['name'] = 'Alexander'\n",
    "print(datadict)"
   ]
  },
  {
   "cell_type": "code",
   "execution_count": null,
   "metadata": {},
   "outputs": [],
   "source": [
    "movies.pop(\"BahuBali\")"
   ]
  },
  {
   "cell_type": "code",
   "execution_count": null,
   "metadata": {},
   "outputs": [],
   "source": [
    "movies"
   ]
  },
  {
   "cell_type": "markdown",
   "metadata": {},
   "source": [
    "for loop in dict will iterate over keys"
   ]
  },
  {
   "cell_type": "code",
   "execution_count": null,
   "metadata": {},
   "outputs": [],
   "source": [
    "for item in datadict:\n",
    "    print(item)"
   ]
  },
  {
   "cell_type": "code",
   "execution_count": null,
   "metadata": {},
   "outputs": [],
   "source": [
    "for item in datadict:\n",
    "    print(datadict[item])"
   ]
  },
  {
   "cell_type": "code",
   "execution_count": null,
   "metadata": {},
   "outputs": [],
   "source": [
    "for k,v in datadict.items():\n",
    "    print(k, v)"
   ]
  },
  {
   "cell_type": "code",
   "execution_count": null,
   "metadata": {},
   "outputs": [],
   "source": [
    "movies.keys()"
   ]
  },
  {
   "cell_type": "code",
   "execution_count": null,
   "metadata": {},
   "outputs": [],
   "source": [
    "movies.values()"
   ]
  },
  {
   "cell_type": "markdown",
   "metadata": {},
   "source": [
    "nested dictionary"
   ]
  },
  {
   "cell_type": "code",
   "execution_count": null,
   "metadata": {},
   "outputs": [],
   "source": [
    "report = {\n",
    "    '01' : {\n",
    "        'name' : \"Alex\",\n",
    "        'subjects' : {\n",
    "            'maths' : 90,\n",
    "            'science' : 85,\n",
    "            'english' : 95\n",
    "        }\n",
    "    },\n",
    "    '02' : {\n",
    "        'name' : \"John\",\n",
    "        'subjects' : {\n",
    "            'maths' : 80,\n",
    "            'science' : 75,\n",
    "            'english' : 85\n",
    "        }\n",
    "    },\n",
    "}"
   ]
  },
  {
   "cell_type": "code",
   "execution_count": null,
   "metadata": {},
   "outputs": [],
   "source": [
    "report['02']['subjects']['english']"
   ]
  },
  {
   "cell_type": "code",
   "execution_count": null,
   "metadata": {},
   "outputs": [],
   "source": [
    "from pprint import pp"
   ]
  },
  {
   "cell_type": "code",
   "execution_count": null,
   "metadata": {},
   "outputs": [],
   "source": [
    "pp(report)"
   ]
  },
  {
   "cell_type": "code",
   "execution_count": null,
   "metadata": {},
   "outputs": [],
   "source": [
    "rainfall_data = {\n",
    "    'year' : [2019, 2020, 2021, 2022, 2023],\n",
    "    'rainfall' : [100, 200, 150, 300, 250]\n",
    "}\n",
    "print(rainfall_data)"
   ]
  },
  {
   "cell_type": "code",
   "execution_count": null,
   "metadata": {},
   "outputs": [],
   "source": []
  }
 ],
 "metadata": {
  "kernelspec": {
   "display_name": "base",
   "language": "python",
   "name": "python3"
  },
  "language_info": {
   "codemirror_mode": {
    "name": "ipython",
    "version": 3
   },
   "file_extension": ".py",
   "mimetype": "text/x-python",
   "name": "python",
   "nbconvert_exporter": "python",
   "pygments_lexer": "ipython3",
   "version": "3.12.2"
  }
 },
 "nbformat": 4,
 "nbformat_minor": 2
}
