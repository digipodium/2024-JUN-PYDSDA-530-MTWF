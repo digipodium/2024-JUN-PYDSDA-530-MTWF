{
 "cells": [
  {
   "cell_type": "markdown",
   "metadata": {},
   "source": [
    "### Strings\n",
    "- creation\n",
    "- indexing and slicing\n",
    "- methods"
   ]
  },
  {
   "cell_type": "code",
   "execution_count": null,
   "metadata": {},
   "outputs": [],
   "source": [
    "# single quoted\n",
    "a = 'apple'\n",
    "print(type(a))"
   ]
  },
  {
   "cell_type": "code",
   "execution_count": null,
   "metadata": {},
   "outputs": [],
   "source": [
    "# double quoted\n",
    "b = \"big apple\"\n",
    "print(type(b))"
   ]
  },
  {
   "cell_type": "code",
   "execution_count": null,
   "metadata": {},
   "outputs": [],
   "source": [
    "# triple quoted\n",
    "c = '''this is \n",
    "a string.\n",
    "and its in triple\n",
    "quotes'''\n",
    "print(type(c))"
   ]
  },
  {
   "cell_type": "code",
   "execution_count": null,
   "metadata": {},
   "outputs": [],
   "source": [
    "d = str(129300)\n",
    "print(type(d))"
   ]
  },
  {
   "cell_type": "markdown",
   "metadata": {},
   "source": [
    "types of string\n",
    "- byte  `b'hello'`\n",
    "- raw   `r'hello'`\n",
    "- format `f'hello {a}'`"
   ]
  },
  {
   "cell_type": "code",
   "execution_count": null,
   "metadata": {},
   "outputs": [],
   "source": [
    "print(b'this is a byte string')\n",
    "print(r'this is \\n\\n\\n a byte string')\n",
    "print(f'{a} is a value')"
   ]
  },
  {
   "cell_type": "markdown",
   "metadata": {},
   "source": [
    "# indexing\n",
    "```\n",
    "   -5 -4 -3 -2 -1\n",
    "    a  p  p  l  e\n",
    "    0  1  2  3  4\n",
    "```"
   ]
  },
  {
   "cell_type": "code",
   "execution_count": null,
   "metadata": {},
   "outputs": [],
   "source": [
    "word = 'Greek'\n",
    "print(word[0])\n",
    "print(word[1])\n",
    "print(word[2])\n",
    "print(word[-2])\n",
    "print(word[-1])"
   ]
  },
  {
   "cell_type": "code",
   "execution_count": null,
   "metadata": {},
   "outputs": [],
   "source": [
    "msg = \"Journey before destination\"\n",
    "print(msg[15])\n",
    "print(msg[-6])"
   ]
  },
  {
   "cell_type": "code",
   "execution_count": null,
   "metadata": {},
   "outputs": [],
   "source": [
    "print(msg[0]+msg[1]+msg[2]+msg[3]+msg[4]+msg[5]+msg[6])"
   ]
  },
  {
   "cell_type": "markdown",
   "metadata": {},
   "source": [
    "```python\n",
    "sequence[start : stop]\n",
    "\n",
    "sequence[start : stop : step]\n",
    "```"
   ]
  },
  {
   "cell_type": "code",
   "execution_count": null,
   "metadata": {},
   "outputs": [],
   "source": [
    "print(msg[0:7])"
   ]
  },
  {
   "cell_type": "code",
   "execution_count": null,
   "metadata": {},
   "outputs": [],
   "source": [
    "print(msg[15:])"
   ]
  },
  {
   "cell_type": "code",
   "execution_count": null,
   "metadata": {},
   "outputs": [],
   "source": [
    "name = 'Vijay Deenanath Chauhan'\n",
    "fname = name[:5] # first 5 characters\n",
    "mname = name[6:-8]\n",
    "lname = name[-7:]\n",
    "print(fname)\n",
    "print(mname)\n",
    "print(lname)"
   ]
  },
  {
   "cell_type": "code",
   "execution_count": null,
   "metadata": {},
   "outputs": [],
   "source": [
    "# reverse\n",
    "print(name[::-1])   \n",
    "\n",
    "# step\n",
    "print(name[::2])\n",
    "print(name[1::2])\n",
    "\n",
    "# leaving out the start and end\n",
    "print(name[5:-5])"
   ]
  },
  {
   "cell_type": "code",
   "execution_count": null,
   "metadata": {},
   "outputs": [],
   "source": [
    "x = \"$1599.25 only\"\n",
    "print(\"convert it into float\")\n",
    "x = float(x[1:-5])\n",
    "print(x)"
   ]
  },
  {
   "cell_type": "markdown",
   "metadata": {},
   "source": [
    "# string methods\n",
    "- formatting\n",
    "    - upper()\n",
    "    - lower()\n",
    "    - capitalize()\n",
    "    - title()\n",
    "    - swapcase()\n",
    "    - casefold()\n",
    "    - center()\n",
    "    - ljust()\n",
    "    - rjust()"
   ]
  },
  {
   "cell_type": "code",
   "execution_count": null,
   "metadata": {},
   "outputs": [],
   "source": [
    "msg = 'Life is Beautiful'\n",
    "print(msg.upper())\n",
    "print(msg.lower())\n",
    "print(msg.title())\n",
    "print(msg.capitalize())\n",
    "print(msg.swapcase())\n",
    "print(msg.casefold())\n",
    "print(msg.center(50))\n",
    "print(msg.ljust(50))\n",
    "print(msg.rjust(50))\n",
    "print(msg.rjust(50,'*'))\n",
    "print(msg.ljust(50,'*'))\n",
    "print(msg.center(50,'*'))"
   ]
  },
  {
   "cell_type": "markdown",
   "metadata": {},
   "source": [
    "- validation method\n",
    "    - isalpha()\n",
    "    - isalnum()\n",
    "    - isnumeric()\n",
    "    - isdigit()\n",
    "    - isspace()\n",
    "    - isascii()\n",
    "    - isprintable()\n",
    "    - isupper()\n",
    "    - islower()"
   ]
  },
  {
   "cell_type": "code",
   "execution_count": null,
   "metadata": {},
   "outputs": [],
   "source": [
    "data = input(\"enter something\")\n",
    "print(data)\n",
    "print(data.isalpha())\n",
    "print(data.isalnum())\n",
    "print(data.isnumeric())\n",
    "print(data.isdigit())\n",
    "print(data.isspace())\n",
    "print(data.isascii())\n",
    "print(data.isprintable())\n",
    "print(data.islower())\n",
    "print(data.isupper())"
   ]
  },
  {
   "cell_type": "code",
   "execution_count": null,
   "metadata": {},
   "outputs": [],
   "source": [
    "for i in range(0, 280, 5):\n",
    "    c = chr(i)\n",
    "    print(f'{i} = {c} , {c.isascii()}')"
   ]
  },
  {
   "cell_type": "markdown",
   "metadata": {},
   "source": [
    "- utility functions\n",
    "    - split()\n",
    "    - join()\n",
    "    - find()\n",
    "    - index()\n",
    "    - replace()\n",
    "    - count()\n",
    "    - strip()"
   ]
  },
  {
   "cell_type": "code",
   "execution_count": null,
   "metadata": {},
   "outputs": [],
   "source": [
    "sentence = \"All the glitter is not gold\"\n",
    "sentence.split()"
   ]
  },
  {
   "cell_type": "code",
   "execution_count": null,
   "metadata": {},
   "outputs": [],
   "source": [
    "words = sentence.split()\n",
    "for word in words:\n",
    "    print(word)"
   ]
  },
  {
   "cell_type": "code",
   "execution_count": 50,
   "metadata": {},
   "outputs": [
    {
     "data": {
      "text/plain": [
       "['Life before Death',\n",
       " ' Strength before Weakness',\n",
       " ' Journey before Destination']"
      ]
     },
     "execution_count": 50,
     "metadata": {},
     "output_type": "execute_result"
    }
   ],
   "source": [
    "quote = \"Life before Death, Strength before Weakness, Journey before Destination\"\n",
    "quote.split(\",\")"
   ]
  },
  {
   "cell_type": "code",
   "execution_count": null,
   "metadata": {},
   "outputs": [],
   "source": [
    "poem = \"\"\"Johnny Johnny, Yes Papa\n",
    "Eating sugar, No Papa\n",
    "Telling lies, No Papa\n",
    "Open your mouth, Ha! Ha! Ha!\n",
    "\"\"\"\n",
    "poem.splitlines()"
   ]
  },
  {
   "cell_type": "code",
   "execution_count": null,
   "metadata": {},
   "outputs": [],
   "source": [
    "addr = ['C:', 'users', 'zaid', 'download','file.txt']\n",
    "print(addr)\n",
    "full_addr = \"/\".join(addr)\n",
    "print(full_addr)"
   ]
  },
  {
   "cell_type": "markdown",
   "metadata": {},
   "source": [
    "wap to count all even sized words in a string enter by user"
   ]
  },
  {
   "cell_type": "code",
   "execution_count": null,
   "metadata": {},
   "outputs": [],
   "source": [
    "sentence = input(\"enter a sentence\")\n",
    "words = sentence.split()\n",
    "total = 0\n",
    "for word in words:\n",
    "    size = len(word)\n",
    "    if size % 2 == 0:\n",
    "        total+=1\n",
    "print(total)"
   ]
  },
  {
   "cell_type": "markdown",
   "metadata": {},
   "source": [
    "find() and index()"
   ]
  },
  {
   "cell_type": "code",
   "execution_count": null,
   "metadata": {},
   "outputs": [],
   "source": [
    "a = 'this is a message'\n",
    "print(a.find('is'))\n",
    "print(a.find('mess'))\n",
    "print(a.find('are'))\n",
    "print(a.find('is', 3)) # start from index 3\n",
    "# index is same as find but it throws an error if not found\n",
    "print(a.index('is'))\n",
    "print(a.index('is', 3)) # start from index 3\n",
    "print(a.index('are')) # error\n"
   ]
  },
  {
   "cell_type": "code",
   "execution_count": null,
   "metadata": {},
   "outputs": [],
   "source": [
    "print(a)\n",
    "b = a.replace(\"is\", \"was\")\n",
    "print(b)\n",
    "c = b.replace('message', 'letter').replace('was', 'is') # chain\n",
    "print(c)\n",
    "d = c.replace('t', 'k', 2) # replace only first 2 occurences\n",
    "print(d)"
   ]
  },
  {
   "cell_type": "code",
   "execution_count": null,
   "metadata": {},
   "outputs": [],
   "source": [
    "# replace as remove\n",
    "data = \"he!!!!llo\"\n",
    "data.replace('!','') # remove all !"
   ]
  },
  {
   "cell_type": "markdown",
   "metadata": {},
   "source": [
    "wap to remove all vowels from a string "
   ]
  },
  {
   "cell_type": "code",
   "execution_count": null,
   "metadata": {},
   "outputs": [],
   "source": [
    "\"welcome to my world\".replace('a','').replace('e','')"
   ]
  },
  {
   "cell_type": "code",
   "execution_count": null,
   "metadata": {},
   "outputs": [],
   "source": [
    "msg = 'one two three one two'\n",
    "print(msg.count(\"o\"))\n",
    "print(msg.count(\"one\"))\n",
    "print(msg.count(\"ee\"))\n",
    "print(msg.count(\"four\"))"
   ]
  },
  {
   "cell_type": "code",
   "execution_count": 58,
   "metadata": {},
   "outputs": [
    {
     "name": "stdout",
     "output_type": "stream",
     "text": [
      "13  alex mercer \n",
      "11 alex mercer\n"
     ]
    }
   ],
   "source": [
    "name = ' alex mercer '\n",
    "print(len(name), name)\n",
    "clean_name = name.strip()\n",
    "print(len(clean_name), clean_name)"
   ]
  },
  {
   "cell_type": "markdown",
   "metadata": {},
   "source": [
    "```python\n",
    "names = [\n",
    "    ' john',\n",
    "    ' alex',\n",
    "    ' jane',\n",
    "    'alexa ',\n",
    "    ' jacob',\n",
    "]\n",
    "```\n",
    "display this data after removing all leading and trailing spaces and making it upper case"
   ]
  },
  {
   "cell_type": "code",
   "execution_count": 64,
   "metadata": {},
   "outputs": [
    {
     "name": "stdout",
     "output_type": "stream",
     "text": [
      "John\n",
      "Alex\n",
      "Jane\n",
      "Alexa\n",
      "Jacob\n"
     ]
    }
   ],
   "source": [
    "names = [' john',' alex',' jane','alexa ',' jacob']\n",
    "for i in names:\n",
    "    print(i.strip().title())"
   ]
  },
  {
   "cell_type": "code",
   "execution_count": null,
   "metadata": {},
   "outputs": [],
   "source": []
  },
  {
   "cell_type": "code",
   "execution_count": null,
   "metadata": {},
   "outputs": [],
   "source": []
  }
 ],
 "metadata": {
  "kernelspec": {
   "display_name": "base",
   "language": "python",
   "name": "python3"
  },
  "language_info": {
   "codemirror_mode": {
    "name": "ipython",
    "version": 3
   },
   "file_extension": ".py",
   "mimetype": "text/x-python",
   "name": "python",
   "nbconvert_exporter": "python",
   "pygments_lexer": "ipython3",
   "version": "3.12.2"
  }
 },
 "nbformat": 4,
 "nbformat_minor": 2
}
