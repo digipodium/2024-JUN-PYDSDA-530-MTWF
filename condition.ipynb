{
 "cells": [
  {
   "cell_type": "markdown",
   "metadata": {},
   "source": [
    "condition\n",
    "- `if`\n",
    "- `if else`\n",
    "- `if elif`\n",
    "- `match case`"
   ]
  },
  {
   "cell_type": "markdown",
   "metadata": {},
   "source": [
    "```python\n",
    "if expr:\n",
    "    statement 1\n",
    "    statement 2\n",
    "    ...\n",
    "    statement n\n",
    "```"
   ]
  },
  {
   "cell_type": "code",
   "execution_count": null,
   "metadata": {},
   "outputs": [],
   "source": [
    "name = input(\"enter your name\")\n",
    "if len(name) >= 10:\n",
    "    print(\"You have a very big name\")"
   ]
  },
  {
   "cell_type": "code",
   "execution_count": null,
   "metadata": {},
   "outputs": [],
   "source": [
    "name = input(\"enter your name\")\n",
    "if len(name) == 0:\n",
    "    print(\"⚠️You dont have a name\")\n",
    "if len(name) <=4:\n",
    "    print(\"consize name\")\n",
    "if len(name) < 10:\n",
    "    print(\"Standard name, nothing special\")\n",
    "if len(name) >= 10:\n",
    "    print(\"You have a very big name\")"
   ]
  },
  {
   "cell_type": "code",
   "execution_count": null,
   "metadata": {},
   "outputs": [],
   "source": [
    "num = int(input(\"enter a number\"))\n",
    "if num % 2 == 0:\n",
    "    print(\"even\")\n",
    "else:\n",
    "    print(\"odd\")"
   ]
  },
  {
   "cell_type": "code",
   "execution_count": null,
   "metadata": {},
   "outputs": [],
   "source": [
    "username = input(\"enter username\")\n",
    "password = input(\"enter password\")\n",
    "if username == \"admin\" and password == \"admin\":\n",
    "    print(\"welcome user!\")\n",
    "else:\n",
    "    print(\"Kaun ho tum?\")"
   ]
  },
  {
   "cell_type": "code",
   "execution_count": null,
   "metadata": {},
   "outputs": [],
   "source": [
    "# if - elif ladder\n",
    "marks = int(input(\"kitne number aaye appke =>\"))\n",
    "if marks >= 85:\n",
    "    print(\"Arey wah! you got *A Grade*\")\n",
    "elif marks >= 70:\n",
    "    print(\"Badiya, B Grade\")\n",
    "elif marks >=50:\n",
    "    print(\"Chalo pass to hue, C Grade\")\n",
    "else:\n",
    "    print(\"Fail, better luck next year\")"
   ]
  },
  {
   "cell_type": "code",
   "execution_count": null,
   "metadata": {},
   "outputs": [],
   "source": [
    "# nested conditions\n",
    "username = input(\"username:\")\n",
    "password = input(\"password:\")\n",
    "if username != '' and password !='':\n",
    "    if username == \"admin\":\n",
    "        if password == \"admin\":\n",
    "            print(\"welcome User 21893!\")\n",
    "        else:\n",
    "            print(\"password do not match\")\n",
    "    else:\n",
    "        print(\"Username does not exist\")\n",
    "else:\n",
    "    print(\"credentials cant be blank\")\n",
    "\n"
   ]
  },
  {
   "cell_type": "code",
   "execution_count": 29,
   "metadata": {},
   "outputs": [
    {
     "name": "stdout",
     "output_type": "stream",
     "text": [
      "You should go and play outside\n"
     ]
    }
   ],
   "source": [
    "age = int(input('enter ur age:'))\n",
    "match age:\n",
    "    case 1|2|3|4|5:\n",
    "        print(\"You are still very young\")\n",
    "    case 10:\n",
    "        print(\"You should go and play outside\")\n",
    "    case 20:\n",
    "        print(\"You are a teenager\")\n",
    "    case 30:\n",
    "        print(\"You are an adult, take responsibilities\")\n",
    "    case _:\n",
    "        print(\"You are not worthy\")"
   ]
  },
  {
   "cell_type": "code",
   "execution_count": null,
   "metadata": {},
   "outputs": [],
   "source": []
  }
 ],
 "metadata": {
  "kernelspec": {
   "display_name": "base",
   "language": "python",
   "name": "python3"
  },
  "language_info": {
   "codemirror_mode": {
    "name": "ipython",
    "version": 3
   },
   "file_extension": ".py",
   "mimetype": "text/x-python",
   "name": "python",
   "nbconvert_exporter": "python",
   "pygments_lexer": "ipython3",
   "version": "3.12.2"
  }
 },
 "nbformat": 4,
 "nbformat_minor": 2
}
