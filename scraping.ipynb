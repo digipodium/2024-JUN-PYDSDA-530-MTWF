{
 "cells": [
  {
   "cell_type": "code",
   "execution_count": null,
   "metadata": {},
   "outputs": [],
   "source": [
    "from dputils.scrape import Scraper, Tag"
   ]
  },
  {
   "cell_type": "code",
   "execution_count": null,
   "metadata": {},
   "outputs": [],
   "source": [
    "url ='https://digipodium.com/mining-demo.html'\n",
    "sc1 = Scraper(url)"
   ]
  },
  {
   "cell_type": "code",
   "execution_count": null,
   "metadata": {},
   "outputs": [],
   "source": [
    "target = Tag('main')\n",
    "items = Tag(cls='col')\n",
    "title = Tag('h4')\n",
    "price = Tag('h1')\n",
    "oprice = Tag('li', cls='o-price')"
   ]
  },
  {
   "cell_type": "code",
   "execution_count": null,
   "metadata": {},
   "outputs": [],
   "source": [
    "sc1.get_repeating_date_from_page(\n",
    "    target=target,\n",
    "    items = items,\n",
    "    title = title,\n",
    "    price = price,\n",
    "    oprice = oprice\n",
    ")"
   ]
  },
  {
   "cell_type": "code",
   "execution_count": null,
   "metadata": {},
   "outputs": [],
   "source": [
    "help(Tag)"
   ]
  },
  {
   "cell_type": "markdown",
   "metadata": {},
   "source": [
    "# multipage scraping"
   ]
  },
  {
   "cell_type": "code",
   "execution_count": null,
   "metadata": {},
   "outputs": [],
   "source": [
    "\n",
    "def get_items_from_flipkart(query, page=1):\n",
    "    url=f'https://www.flipkart.com/search?q={query}&page={page}'\n",
    "    sc2 = Scraper(url)\n",
    "    t = Tag(cls='DOjaWF gdgoEp')\n",
    "    i = Tag(cls='slAVV4')\n",
    "    return sc2.get_repeating_date_from_page(\n",
    "        target=t, \n",
    "        items=i, \n",
    "        image = Tag('img', cls='DByuf4', output='src'),\n",
    "        link = Tag('a', cls='VJA3rP', output='href'),\n",
    "        title = Tag('a', cls='wjcEIp')\n",
    "    )"
   ]
  },
  {
   "cell_type": "code",
   "execution_count": null,
   "metadata": {},
   "outputs": [],
   "source": [
    "query = \"books\"\n",
    "page = 1\n",
    "all_data = []\n",
    "while True:\n",
    "    data = get_items_from_flipkart(query, page)\n",
    "    if len(data) > 0:\n",
    "        print(f\"Scraped {page=}\")\n",
    "        all_data.extend(data)\n",
    "        page += 1\n",
    "    else:\n",
    "        print(\"Stopping, no more data\")\n",
    "        break"
   ]
  },
  {
   "cell_type": "code",
   "execution_count": null,
   "metadata": {},
   "outputs": [],
   "source": [
    "import pandas as pd\n",
    "pd.DataFrame(all_data).to_csv('books.csv', index=False)"
   ]
  },
  {
   "cell_type": "markdown",
   "metadata": {},
   "source": [
    "# single page data"
   ]
  },
  {
   "cell_type": "code",
   "execution_count": 20,
   "metadata": {},
   "outputs": [
    {
     "data": {
      "text/plain": [
       "{'title': 'Shri Ram Charit Manas (Gita Press, Gorakhpur) / ShriRamCharitManas / ShriRamCharit Manas / Shri RamCharitManas / Shri RamCharit Manas\\xa0\\xa0(Hardcover, Hindi, Shri Goswami Tulsidas)',\n",
       " 'price': '₹675',\n",
       " 'ratings': '2,928 Ratings\\xa0&\\xa0260 Reviews',\n",
       " 'desc': 'BookShri Ram Charit Manas (Gita Press, Gorakhpur) / ShriRamCharitManas / ShriRamCharit Manas / Shri RamCharitManas / Shri RamCharit ManasAuthorShri Goswami TulsidasBindingHardcoverPublishing Date2022PublisherGita Press, GorakhpurEdition2022Number of Pages1049LanguageHindi'}"
      ]
     },
     "execution_count": 20,
     "metadata": {},
     "output_type": "execute_result"
    }
   ],
   "source": [
    "url = 'https://www.flipkart.com/shri-ram-charit-manas-gita-press-gorakhpur-shriramcharitmanas-shriramcharit-ramcharitmanas-ramcharit/p/itm4e6924b037828'\n",
    "sc3 = Scraper(url)\n",
    "sc3.get_data_from_page(\n",
    "    title = Tag('span', cls='VU-ZEz'),\n",
    "    price = Tag(cls='Nx9bqj CxhGGd'),\n",
    "    ratings = Tag('span', cls='Wphh3N'),\n",
    "    desc = Tag(cls='GNDEQ-')\n",
    ")"
   ]
  },
  {
   "cell_type": "code",
   "execution_count": null,
   "metadata": {},
   "outputs": [],
   "source": []
  }
 ],
 "metadata": {
  "kernelspec": {
   "display_name": "base",
   "language": "python",
   "name": "python3"
  },
  "language_info": {
   "codemirror_mode": {
    "name": "ipython",
    "version": 3
   },
   "file_extension": ".py",
   "mimetype": "text/x-python",
   "name": "python",
   "nbconvert_exporter": "python",
   "pygments_lexer": "ipython3",
   "version": "3.12.2"
  }
 },
 "nbformat": 4,
 "nbformat_minor": 2
}
