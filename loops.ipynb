{
 "cells": [
  {
   "cell_type": "markdown",
   "metadata": {},
   "source": [
    "### loops in python\n",
    "1. `for` loop -> Step based loop\n",
    "2. `while` loop -> Condition based loop\n",
    "\n",
    "syntax:\n",
    "```python\n",
    "for temp in iterable:\n",
    "    # code block\n",
    "```\n",
    "\n",
    "```python\n",
    "while condition:\n",
    "    # code block\n",
    "```\n",
    "\n",
    "*iterable is any object that has children/items to iterate over*\n",
    "- string\n",
    "- list\n",
    "- tuple\n",
    "- set\n",
    "- dictionary\n",
    "- generator\n",
    "- range()\n",
    "\n",
    "- loop control\n",
    "1. `break`\n",
    "2. `continue`\n",
    "\n",
    "- `enumerate()`\n",
    "- `zip()`\n",
    "\n",
    "- `for-else`, `while-else`"
   ]
  },
  {
   "cell_type": "code",
   "execution_count": null,
   "metadata": {},
   "outputs": [],
   "source": [
    "list(range(10))"
   ]
  },
  {
   "cell_type": "code",
   "execution_count": null,
   "metadata": {},
   "outputs": [],
   "source": [
    "for i in range(5):\n",
    "    print(i)"
   ]
  },
  {
   "cell_type": "code",
   "execution_count": null,
   "metadata": {},
   "outputs": [],
   "source": [
    "for i in range(10, 20):\n",
    "    print(i)"
   ]
  },
  {
   "cell_type": "code",
   "execution_count": null,
   "metadata": {},
   "outputs": [],
   "source": [
    "for i in range(1, 11, 2):\n",
    "    print(i, end=', ')"
   ]
  },
  {
   "cell_type": "code",
   "execution_count": null,
   "metadata": {},
   "outputs": [],
   "source": [
    "# reverse\n",
    "for i in range(5, -6, -1):\n",
    "    print(i, end=', ')"
   ]
  },
  {
   "cell_type": "code",
   "execution_count": null,
   "metadata": {},
   "outputs": [],
   "source": [
    "word = 'digipodium'\n",
    "for char in word:\n",
    "    print(\"=>\",char)"
   ]
  },
  {
   "cell_type": "code",
   "execution_count": null,
   "metadata": {},
   "outputs": [],
   "source": [
    "data = 'p_y@!t@h#on'\n",
    "for i in data:\n",
    "    if i.isalpha():\n",
    "        print(i)"
   ]
  },
  {
   "cell_type": "code",
   "execution_count": null,
   "metadata": {},
   "outputs": [],
   "source": [
    "nums = [-5,-4,-3,-2,-1,0,1,2,3,4,5]\n",
    "for num in nums:\n",
    "    print(num * 5)"
   ]
  },
  {
   "cell_type": "code",
   "execution_count": null,
   "metadata": {},
   "outputs": [],
   "source": [
    "fruits = ['apple', 'banana', 'cherry', 'dragonfruit',\n",
    "        'eggplant', 'fig', 'gauva', 'honeydew', 'imli', 'kiwi']\n",
    "for fruit in fruits:\n",
    "    print(fruit, len(fruit))"
   ]
  },
  {
   "cell_type": "code",
   "execution_count": null,
   "metadata": {},
   "outputs": [],
   "source": [
    "for i in fruits:\n",
    "    if i == 'fig':\n",
    "        break\n",
    "    print(i)\n",
    "print('Loop completed')"
   ]
  },
  {
   "cell_type": "code",
   "execution_count": null,
   "metadata": {},
   "outputs": [],
   "source": [
    "nums = [10,30,65,29]\n",
    "total = 0\n",
    "for i in nums:\n",
    "    total += i\n",
    "print(total)"
   ]
  },
  {
   "cell_type": "code",
   "execution_count": null,
   "metadata": {},
   "outputs": [],
   "source": [
    "nums = [120, -20, 10, 40, 101, -50, 15]\n",
    "total = 0\n",
    "for i in nums:\n",
    "    if i < 0:\n",
    "        continue\n",
    "    total += i\n",
    "print(total)"
   ]
  },
  {
   "cell_type": "code",
   "execution_count": null,
   "metadata": {},
   "outputs": [],
   "source": [
    "total = 0\n",
    "for i in nums:\n",
    "    if i > 0:\n",
    "        total += i\n",
    "print(total)"
   ]
  },
  {
   "cell_type": "code",
   "execution_count": null,
   "metadata": {},
   "outputs": [],
   "source": [
    "names = ['isha','harsh','divyansh','muskan','anshika']\n",
    "for i in names:\n",
    "    print(i)"
   ]
  },
  {
   "cell_type": "code",
   "execution_count": null,
   "metadata": {},
   "outputs": [],
   "source": [
    "for i, v in enumerate(names):\n",
    "    print(i, v)"
   ]
  },
  {
   "cell_type": "code",
   "execution_count": null,
   "metadata": {},
   "outputs": [],
   "source": [
    "for i, v in enumerate(names):\n",
    "    if i==3:\n",
    "        break\n",
    "    print(v)"
   ]
  },
  {
   "cell_type": "code",
   "execution_count": null,
   "metadata": {},
   "outputs": [],
   "source": [
    "for i, v in enumerate(names):\n",
    "    if i % 2 != 0:\n",
    "        print(v)"
   ]
  },
  {
   "cell_type": "code",
   "execution_count": null,
   "metadata": {},
   "outputs": [],
   "source": [
    "for i, v in enumerate(names):\n",
    "    if i % 2 == 0:\n",
    "        print(v)"
   ]
  },
  {
   "cell_type": "code",
   "execution_count": null,
   "metadata": {},
   "outputs": [],
   "source": [
    "x = [1,2,3,4,5]\n",
    "y = [6,7,8,9,10]\n",
    "\n",
    "for i, j in zip(x, y):\n",
    "    print(f'{i} + {j} = {i+j}')"
   ]
  },
  {
   "cell_type": "code",
   "execution_count": null,
   "metadata": {},
   "outputs": [],
   "source": [
    "a = [1,2,3]\n",
    "b = [4,5,6]\n",
    "c = [7,8,9]"
   ]
  },
  {
   "cell_type": "code",
   "execution_count": null,
   "metadata": {},
   "outputs": [],
   "source": [
    "name = ['apple', 'banana', 'cherry']\n",
    "price = [100, 200, 300]\n",
    "qty = [3, 2, 5]\n",
    "total = 0\n",
    "for n,p,q in zip(name,price,qty):\n",
    "    print(f'{n:10}|{p:^5}|{q:^3}|{p*q:>5}')\n",
    "    total += p*q\n",
    "print('_'*30)\n",
    "print(f\"total {total:20}\")"
   ]
  },
  {
   "cell_type": "code",
   "execution_count": null,
   "metadata": {},
   "outputs": [],
   "source": [
    "for i in range(5):\n",
    "    print(i)\n",
    "    if i == 13:\n",
    "        break\n",
    "else:\n",
    "    print('loop completed successfully')"
   ]
  },
  {
   "cell_type": "code",
   "execution_count": null,
   "metadata": {},
   "outputs": [],
   "source": [
    "n = int(input(\"enter a stop value:\"))\n",
    "for i in range(1,11):\n",
    "    if i == n:\n",
    "        print(\"loop terminated\")\n",
    "        break\n",
    "    print(i)\n",
    "else:\n",
    "    print(\"well done\")"
   ]
  },
  {
   "cell_type": "code",
   "execution_count": 73,
   "metadata": {},
   "outputs": [
    {
     "name": "stdout",
     "output_type": "stream",
     "text": [
      "=> 5 % 2 == False \n",
      "=> 5 % 3 == False \n",
      "=> 5 % 4 == False \n",
      "prime\n"
     ]
    }
   ],
   "source": [
    "# prime number\n",
    "n = int(input(\"enter a number:\"))\n",
    "for i in range(2, n):\n",
    "    print(f\"=> {n} % {i} == {n%i==0} \")\n",
    "    if n%i==0:\n",
    "        print(\"Not prime\")\n",
    "        break\n",
    "else:\n",
    "    print(\"prime\")"
   ]
  },
  {
   "cell_type": "code",
   "execution_count": 75,
   "metadata": {},
   "outputs": [
    {
     "name": "stdout",
     "output_type": "stream",
     "text": [
      "200\n",
      "175\n",
      "150\n",
      "125\n",
      "100\n",
      "75\n",
      "50\n",
      "25\n"
     ]
    }
   ],
   "source": [
    "i = 200\n",
    "while i > 0:\n",
    "    print(i)\n",
    "    i -= 25"
   ]
  },
  {
   "cell_type": "code",
   "execution_count": null,
   "metadata": {},
   "outputs": [],
   "source": []
  }
 ],
 "metadata": {
  "kernelspec": {
   "display_name": "base",
   "language": "python",
   "name": "python3"
  },
  "language_info": {
   "codemirror_mode": {
    "name": "ipython",
    "version": 3
   },
   "file_extension": ".py",
   "mimetype": "text/x-python",
   "name": "python",
   "nbconvert_exporter": "python",
   "pygments_lexer": "ipython3",
   "version": "3.12.2"
  }
 },
 "nbformat": 4,
 "nbformat_minor": 2
}
