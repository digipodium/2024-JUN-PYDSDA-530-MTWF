{
 "cells": [
  {
   "cell_type": "markdown",
   "metadata": {},
   "source": [
    "# list\n",
    "- create\n",
    "- indexing and slicing\n",
    "- methods\n",
    "  - append()\n",
    "  - insert()\n",
    "  - extend()\n",
    "  - remove()\n",
    "  - pop()\n",
    "  - clear()\n",
    "  - count()\n",
    "  - reverse()\n",
    "  - sort()\n",
    "  - index()\n",
    "  - copy()\n",
    "- comprehension"
   ]
  },
  {
   "cell_type": "code",
   "execution_count": null,
   "metadata": {},
   "outputs": [],
   "source": [
    "a = [1,2,3,]\n",
    "print(a, type(a))\n",
    "names = ['Alice', 'Bob', 'Charlie']\n",
    "print(names, type(names))\n",
    "data = ['apple', 50, 'mango', 100, 'orange', 70]\n",
    "nested_list = [[1,2,3],[4,5,6],[7,8]]\n",
    "print(data)\n",
    "print(nested_list)\n",
    "duplicated_list = [1] * 10\n",
    "print(duplicated_list)\n",
    "print(list('vertex'))\n",
    "print('welcome to listing'.split())"
   ]
  },
  {
   "cell_type": "code",
   "execution_count": null,
   "metadata": {},
   "outputs": [],
   "source": [
    "n = [11,12,13,14,15,16,17,18,19,20]\n",
    "print('first five = ',n[:5])\n",
    "print('last five = ',n[-5:])\n",
    "print('last element =',n[-1])\n",
    "print('first element =',n[0])\n",
    "print('except first 2 and last 2 =',n[2: -2])\n",
    "print('reverse list =',n[::-1])\n",
    "print('all even indexes =',n[::2])\n",
    "print('all odd indexes =',n[1::2])"
   ]
  },
  {
   "cell_type": "code",
   "execution_count": null,
   "metadata": {},
   "outputs": [],
   "source": [
    "# list is mutable\n",
    "n[5] = 100 # update\n",
    "print(n)\n",
    "n[0] = 200\n",
    "print(n)"
   ]
  },
  {
   "cell_type": "code",
   "execution_count": null,
   "metadata": {},
   "outputs": [],
   "source": [
    "fruits= ['apple', 'mango', 'orange']\n",
    "print(fruits)\n",
    "fruits[0] = 'custard apple'\n",
    "print(fruits)\n",
    "fruits[1] ='jackfruit'\n",
    "print(fruits)"
   ]
  },
  {
   "cell_type": "code",
   "execution_count": null,
   "metadata": {},
   "outputs": [],
   "source": [
    "movies = []\n",
    "print(type(movies))\n",
    "print(len(movies))\n",
    "movies.append(\"Star wars\")\n",
    "movies.append(\"Harry Potter\")\n",
    "movies.append(\"The core\")\n",
    "movies.append(\"Bullet Train\")\n",
    "movies.append(\"Jumanji\")\n",
    "print(movies)\n",
    "print(len(movies))"
   ]
  },
  {
   "cell_type": "code",
   "execution_count": null,
   "metadata": {},
   "outputs": [],
   "source": [
    "ff = ['fast and furious', \n",
    "    '2 fast 2 furious', \n",
    "    'fast and furious: Tokyo drift',\n",
    "    'fast 5']\n",
    "\n",
    "ff.append(\"Fast and furious 6\")\n",
    "print(ff)\n",
    "ff.insert(3, 'fast and furious 4')\n",
    "print(ff)"
   ]
  },
  {
   "cell_type": "code",
   "execution_count": null,
   "metadata": {},
   "outputs": [],
   "source": [
    "n = [1,2,3,6,7,8,9]\n",
    "n.insert(3,4) # on 3rd index, insert value = 4\n",
    "print(n) \n",
    "n.insert(4,5) # on 5th index, insert value = 5\n",
    "print(n)\n",
    "n.insert(100, 5) # invalid index, so it will insert at the end\n",
    "print(n)"
   ]
  },
  {
   "cell_type": "code",
   "execution_count": null,
   "metadata": {},
   "outputs": [],
   "source": [
    "# adding a list in a another list\n",
    "l1 = [1,2,3]\n",
    "l2 = [4,5,6]\n",
    "l3 = [7,8,9]\n",
    "l1.extend(l2)\n",
    "print(l1)\n",
    "print(l2)\n",
    "l2.extend(l3)\n",
    "print(l2)\n",
    "l3.extend([1,2,3,4,5,5])\n",
    "print(l3)"
   ]
  },
  {
   "cell_type": "markdown",
   "metadata": {},
   "source": [
    "10-jul-24\n"
   ]
  },
  {
   "cell_type": "code",
   "execution_count": null,
   "metadata": {},
   "outputs": [],
   "source": [
    "n.remove(3) # search where is 3 and remove it\n",
    "print(n)\n",
    "n.remove(5) # remove first 5\n",
    "print(n)"
   ]
  },
  {
   "cell_type": "code",
   "execution_count": null,
   "metadata": {},
   "outputs": [],
   "source": [
    "movies.remove('The core')\n",
    "print(movies)"
   ]
  },
  {
   "cell_type": "code",
   "execution_count": null,
   "metadata": {},
   "outputs": [],
   "source": [
    "n.pop(3)"
   ]
  },
  {
   "cell_type": "code",
   "execution_count": null,
   "metadata": {},
   "outputs": [],
   "source": [
    "print(n)"
   ]
  },
  {
   "cell_type": "code",
   "execution_count": null,
   "metadata": {},
   "outputs": [],
   "source": [
    "n.pop() # remove last element"
   ]
  },
  {
   "cell_type": "code",
   "execution_count": null,
   "metadata": {},
   "outputs": [],
   "source": [
    "movies.pop()\n",
    "print(movies)"
   ]
  },
  {
   "cell_type": "code",
   "execution_count": null,
   "metadata": {},
   "outputs": [],
   "source": [
    "n.clear()\n",
    "print(n)\n",
    "movies.clear()\n",
    "print(movies)"
   ]
  },
  {
   "cell_type": "code",
   "execution_count": null,
   "metadata": {},
   "outputs": [],
   "source": [
    "x = [1,2,3,1,1,1,2,2,2,3,1,2,1,3,2]\n",
    "print(x.count(1))\n",
    "print(x.count(2))\n",
    "print(x.count(3))\n",
    "print(x.count(4))"
   ]
  },
  {
   "cell_type": "code",
   "execution_count": null,
   "metadata": {},
   "outputs": [],
   "source": [
    "y = [1,2,3,4,5]\n",
    "y.reverse() # or y[::-1]\n",
    "print(y)"
   ]
  },
  {
   "cell_type": "code",
   "execution_count": null,
   "metadata": {},
   "outputs": [],
   "source": [
    "names = ['Vijay','Salman','Rahul','Akbar']\n",
    "names.sort()\n",
    "print(names)\n",
    "names.sort(reverse=True)\n",
    "print(names)"
   ]
  },
  {
   "cell_type": "code",
   "execution_count": null,
   "metadata": {},
   "outputs": [],
   "source": [
    "heroes =['Goku','Naruto','Luffy','Ichigo','Natsu','Meliodas']\n",
    "print(heroes)\n",
    "luffy_idx = heroes.index('Luffy')\n",
    "print(luffy_idx)"
   ]
  },
  {
   "cell_type": "code",
   "execution_count": null,
   "metadata": {},
   "outputs": [],
   "source": [
    "x = [1,2,3]\n",
    "y = x        # y is a reference to x\n",
    "z = x.copy() # z is a shallow copy of x\n",
    "x.append(4)\n",
    "y.append(5)\n",
    "z.append(6)\n",
    "print(x)\n",
    "print(y)\n",
    "print(z)\n",
    "print(x is y)\n",
    "print(x is z)"
   ]
  },
  {
   "cell_type": "markdown",
   "metadata": {},
   "source": [
    "Comprehension"
   ]
  },
  {
   "cell_type": "code",
   "execution_count": null,
   "metadata": {},
   "outputs": [],
   "source": [
    "x = [1,2,4,2,31,3,6]\n",
    "x2 = [i ** 2 for i in x]\n",
    "print(x)\n",
    "print(x2)"
   ]
  },
  {
   "cell_type": "code",
   "execution_count": null,
   "metadata": {},
   "outputs": [],
   "source": [
    "a = [1,2,3,4,5,6,7,8,9,10]\n",
    "b = [i - 10 for i in a]\n",
    "print(a)\n",
    "print(b)"
   ]
  },
  {
   "cell_type": "code",
   "execution_count": null,
   "metadata": {},
   "outputs": [],
   "source": [
    "a = [65,68,59,70,80]\n",
    "b = [chr(i) for i in a]\n",
    "print(a)\n",
    "print(b)"
   ]
  },
  {
   "cell_type": "code",
   "execution_count": null,
   "metadata": {},
   "outputs": [],
   "source": [
    "crap_list = ['A',1,2,3,'B','C','D',4,5,5,1,1,2,5,6,]\n",
    "clean_list = [i for i in crap_list if isinstance(i, int)]\n",
    "print(crap_list)\n",
    "print(clean_list)"
   ]
  },
  {
   "cell_type": "code",
   "execution_count": null,
   "metadata": {},
   "outputs": [],
   "source": [
    "# make all the input to a int list\n",
    "nums = [int(n) for n in input().split() if n.isdigit()]\n",
    "print(nums)"
   ]
  },
  {
   "cell_type": "markdown",
   "metadata": {},
   "source": [
    "# Tuple"
   ]
  },
  {
   "cell_type": "code",
   "execution_count": null,
   "metadata": {},
   "outputs": [],
   "source": [
    "a = (1,2,3,4,5)\n",
    "print(a, type(a))   \n",
    "b = 1,2,3,4\n",
    "print(b, type(b))\n",
    "# single element tuple\n",
    "c = (1,)\n",
    "print(c)\n",
    "d = (1,) * 5 # tuple duplication\n",
    "print(d)\n",
    "e = tuple([1,2,3,4,5])\n",
    "print(e, type(e))"
   ]
  },
  {
   "cell_type": "code",
   "execution_count": null,
   "metadata": {},
   "outputs": [],
   "source": [
    "print(a[0])\n",
    "print(a[1])\n",
    "print(a[-1])\n",
    "print(a[:3])\n",
    "print(a[3:])"
   ]
  },
  {
   "cell_type": "code",
   "execution_count": 94,
   "metadata": {},
   "outputs": [
    {
     "name": "stdout",
     "output_type": "stream",
     "text": [
      "4\n",
      "0\n",
      "5\n"
     ]
    }
   ],
   "source": [
    "x = (1,1,1,1,3,4,5,6,6)\n",
    "print(x.count(1))\n",
    "print(x.count(10))\n",
    "print(x.index(4)) # find index of 4"
   ]
  },
  {
   "cell_type": "markdown",
   "metadata": {},
   "source": [
    "## tuple unpacking"
   ]
  },
  {
   "cell_type": "code",
   "execution_count": null,
   "metadata": {},
   "outputs": [],
   "source": []
  }
 ],
 "metadata": {
  "kernelspec": {
   "display_name": "base",
   "language": "python",
   "name": "python3"
  },
  "language_info": {
   "codemirror_mode": {
    "name": "ipython",
    "version": 3
   },
   "file_extension": ".py",
   "mimetype": "text/x-python",
   "name": "python",
   "nbconvert_exporter": "python",
   "pygments_lexer": "ipython3",
   "version": "3.12.2"
  }
 },
 "nbformat": 4,
 "nbformat_minor": 2
}
