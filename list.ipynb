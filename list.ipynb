{
 "cells": [
  {
   "cell_type": "markdown",
   "metadata": {},
   "source": [
    "# list\n",
    "- create\n",
    "- indexing and slicing\n",
    "- methods\n",
    "  - append()\n",
    "  - insert()\n",
    "  - extend()\n",
    "  - remove()\n",
    "  - pop()\n",
    "  - clear()\n",
    "  - count()\n",
    "  - reverse()\n",
    "  - sort()\n",
    "  - index()\n",
    "  - copy()\n",
    "- comprehension"
   ]
  },
  {
   "cell_type": "code",
   "execution_count": null,
   "metadata": {},
   "outputs": [],
   "source": [
    "a = [1,2,3,]\n",
    "print(a, type(a))\n",
    "names = ['Alice', 'Bob', 'Charlie']\n",
    "print(names, type(names))\n",
    "data = ['apple', 50, 'mango', 100, 'orange', 70]\n",
    "nested_list = [[1,2,3],[4,5,6],[7,8]]\n",
    "print(data)\n",
    "print(nested_list)\n",
    "duplicated_list = [1] * 10\n",
    "print(duplicated_list)\n",
    "print(list('vertex'))\n",
    "print('welcome to listing'.split())"
   ]
  },
  {
   "cell_type": "code",
   "execution_count": null,
   "metadata": {},
   "outputs": [],
   "source": [
    "n = [11,12,13,14,15,16,17,18,19,20]\n",
    "print('first five = ',n[:5])\n",
    "print('last five = ',n[-5:])\n",
    "print('last element =',n[-1])\n",
    "print('first element =',n[0])\n",
    "print('except first 2 and last 2 =',n[2: -2])\n",
    "print('reverse list =',n[::-1])\n",
    "print('all even indexes =',n[::2])\n",
    "print('all odd indexes =',n[1::2])"
   ]
  },
  {
   "cell_type": "code",
   "execution_count": null,
   "metadata": {},
   "outputs": [],
   "source": [
    "# list is mutable\n",
    "n[5] = 100 # update\n",
    "print(n)\n",
    "n[0] = 200\n",
    "print(n)"
   ]
  },
  {
   "cell_type": "code",
   "execution_count": null,
   "metadata": {},
   "outputs": [],
   "source": [
    "fruits= ['apple', 'mango', 'orange']\n",
    "print(fruits)\n",
    "fruits[0] = 'custard apple'\n",
    "print(fruits)\n",
    "fruits[1] ='jackfruit'\n",
    "print(fruits)"
   ]
  },
  {
   "cell_type": "code",
   "execution_count": null,
   "metadata": {},
   "outputs": [],
   "source": [
    "movies = []\n",
    "print(type(movies))\n",
    "print(len(movies))\n",
    "movies.append(\"Star wars\")\n",
    "movies.append(\"Harry Potter\")\n",
    "movies.append(\"The core\")\n",
    "movies.append(\"Bullet Train\")\n",
    "movies.append(\"Jumanji\")\n",
    "print(movies)\n",
    "print(len(movies))"
   ]
  },
  {
   "cell_type": "code",
   "execution_count": null,
   "metadata": {},
   "outputs": [],
   "source": [
    "ff = ['fast and furious', \n",
    "    '2 fast 2 furious', \n",
    "    'fast and furious: Tokyo drift',\n",
    "    'fast 5']\n",
    "\n",
    "ff.append(\"Fast and furious 6\")\n",
    "print(ff)\n",
    "ff.insert(3, 'fast and furious 4')\n",
    "print(ff)"
   ]
  },
  {
   "cell_type": "code",
   "execution_count": null,
   "metadata": {},
   "outputs": [],
   "source": [
    "n = [1,2,3,6,7,8,9]\n",
    "n.insert(3,4) # on 3rd index, insert value = 4\n",
    "print(n) \n",
    "n.insert(4,5) # on 5th index, insert value = 5\n",
    "print(n)\n",
    "n.insert(100, 5) # invalid index, so it will insert at the end\n",
    "print(n)"
   ]
  },
  {
   "cell_type": "code",
   "execution_count": null,
   "metadata": {},
   "outputs": [],
   "source": [
    "# adding a list in a another list\n",
    "l1 = [1,2,3]\n",
    "l2 = [4,5,6]\n",
    "l3 = [7,8,9]\n",
    "l1.extend(l2)\n",
    "print(l1)\n",
    "print(l2)\n",
    "l2.extend(l3)\n",
    "print(l2)\n",
    "l3.extend([1,2,3,4,5,5])\n",
    "print(l3)"
   ]
  },
  {
   "cell_type": "code",
   "execution_count": null,
   "metadata": {},
   "outputs": [],
   "source": []
  }
 ],
 "metadata": {
  "kernelspec": {
   "display_name": "base",
   "language": "python",
   "name": "python3"
  },
  "language_info": {
   "codemirror_mode": {
    "name": "ipython",
    "version": 3
   },
   "file_extension": ".py",
   "mimetype": "text/x-python",
   "name": "python",
   "nbconvert_exporter": "python",
   "pygments_lexer": "ipython3",
   "version": "3.12.2"
  }
 },
 "nbformat": 4,
 "nbformat_minor": 2
}
